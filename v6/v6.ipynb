{
 "cells": [
  {
   "cell_type": "code",
   "execution_count": 1,
   "metadata": {},
   "outputs": [],
   "source": [
    "import pandas as pd\n",
    "import numpy as np\n",
    "from sklearn.model_selection import train_test_split\n",
    "from sklearn.preprocessing import StandardScaler\n",
    "\n",
    "# reading the data\n",
    "data_path = \"./data/data.csv\"\n",
    "df = pd.read_csv(data_path, header=0)\n",
    "# removing columns with NaN values \n",
    "df.dropna(axis=1, inplace=True)\n",
    "# handling diagnosis feature\n",
    "df['diagnosis'].replace(['M', 'B'],[0, 1], inplace=True)\n",
    "# dropping the id column\n",
    "df.drop([\"id\"], axis=1, inplace=True)\n",
    "df.head()\n",
    "\n",
    "X = df.drop([\"diagnosis\"], axis=1)\n",
    "y = df[\"diagnosis\"]\n",
    "\n",
    "# splitting into train and test set\n",
    "X_train, X_test, y_train, y_test = train_test_split(X, y, test_size=0.2, random_state=0)\n",
    "\n",
    "# standardizing data\n",
    "scaler = StandardScaler()\n",
    "X_train = scaler.fit_transform(X_train)\n",
    "X_test = scaler.fit_transform(X_test)"
   ]
  },
  {
   "cell_type": "code",
   "execution_count": 2,
   "metadata": {},
   "outputs": [
    {
     "name": "stdout",
     "output_type": "stream",
     "text": [
      "Best Parameters (Grid Search): {'C': 7.5, 'degree': 2, 'gamma': 0.01, 'kernel': 'rbf'}\n",
      "Best accuracy (Grid Search): 0.9846153846153847\n",
      "\n",
      "Accuracy: 0.9824561403508771\n",
      "Classification Report:\n",
      "               precision    recall  f1-score   support\n",
      "\n",
      "           0       1.00      0.96      0.98        47\n",
      "           1       0.97      1.00      0.99        67\n",
      "\n",
      "    accuracy                           0.98       114\n",
      "   macro avg       0.99      0.98      0.98       114\n",
      "weighted avg       0.98      0.98      0.98       114\n",
      "\n"
     ]
    }
   ],
   "source": [
    "from sklearn.svm import SVC\n",
    "from sklearn.metrics import accuracy_score, classification_report\n",
    "from sklearn.model_selection import GridSearchCV\n",
    "\n",
    "# doing grid search on sklearns SVC\n",
    "c_values = np.arange(0.5, 10.5, 0.5)\n",
    "degree_values = np.arange(2,8,1)\n",
    "\n",
    "param_grid = {\n",
    "    'kernel': ['linear', 'poly', 'rbf'],\n",
    "    'C': c_values,\n",
    "    'degree': degree_values,  # only for 'poly' kernel\n",
    "    'gamma': ['scale', 'auto', 0.001, 0.01, 0.1, 1.0, 10.0]  # only for 'rbf' kernel\n",
    "}\n",
    "\n",
    "svm_classifier = SVC()\n",
    "grid_search = GridSearchCV(svm_classifier, param_grid, cv=5, scoring='accuracy', n_jobs=-1)\n",
    "grid_search.fit(X_train, y_train)\n",
    "\n",
    "print(\"Best Parameters (Grid Search):\", grid_search.best_params_)\n",
    "print(\"Best accuracy (Grid Search):\", grid_search.best_score_)\n",
    "print()\n",
    "# getting the best svm model and testing it on test data\n",
    "best_svm_model = grid_search.best_estimator_\n",
    "y_pred = best_svm_model.predict(X_test)\n",
    "report = classification_report(y_test, y_pred)\n",
    "accuracy = accuracy_score(y_test, y_pred)\n",
    "print(\"Accuracy:\", accuracy)\n",
    "print(\"Classification Report:\\n\", report)"
   ]
  },
  {
   "cell_type": "code",
   "execution_count": null,
   "metadata": {},
   "outputs": [],
   "source": [
    "# my kernel regression implementation\n",
    "\n",
    "# TODO"
   ]
  }
 ],
 "metadata": {
  "kernelspec": {
   "display_name": "Python 3",
   "language": "python",
   "name": "python3"
  },
  "language_info": {
   "codemirror_mode": {
    "name": "ipython",
    "version": 3
   },
   "file_extension": ".py",
   "mimetype": "text/x-python",
   "name": "python",
   "nbconvert_exporter": "python",
   "pygments_lexer": "ipython3",
   "version": "3.12.0"
  }
 },
 "nbformat": 4,
 "nbformat_minor": 2
}
