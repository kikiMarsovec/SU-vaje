{
 "cells": [
  {
   "cell_type": "code",
   "execution_count": 2,
   "metadata": {},
   "outputs": [
    {
     "data": {
      "text/plain": [
       "(1994, 100)"
      ]
     },
     "execution_count": 2,
     "metadata": {},
     "output_type": "execute_result"
    }
   ],
   "source": [
    "import pandas as pd\n",
    "import numpy as np\n",
    "import matplotlib.pyplot as plt\n",
    "import math\n",
    "from sklearn.linear_model import LinearRegression\n",
    "from sklearn.metrics import mean_absolute_error, mean_squared_error\n",
    "\n",
    "# we read the attribute names and store them in the columns var\n",
    "with open(\"data/communities.names\") as f: \n",
    "    columns = [l.split(\" \")[1] for l in f.readlines() if l.startswith(\"@attribute\")]\n",
    "# we read the data file and store it in the dataframe\n",
    "df = pd.read_csv('data/communities.data', header=None, names=columns, na_values='?')\n",
    "# dropping first 5 columns\n",
    "df = df.drop(columns=[\"state\", \"county\", \"community\", \"communityname\", \"fold\"]) \n",
    "\n",
    "# Dropping columns with NaN values\n",
    "df.dropna(axis=1, inplace=True)\n",
    "\n",
    "df.head()\n",
    "df.shape"
   ]
  },
  {
   "cell_type": "code",
   "execution_count": 3,
   "metadata": {},
   "outputs": [],
   "source": [
    "# K-fold cross-validation and Leave-one-out cross-validation\n",
    "\n",
    "def k_fold_split(data, k): # returns k folds of the data\n",
    "    data = np.array(data)\n",
    "    np.random.shuffle(data)  # Shuffle the data for randomness\n",
    "    fold_size = math.ceil(len(data) / k)\n",
    "    folds = [data[i:i + fold_size] for i in range(0, len(data), fold_size)]\n",
    "    return folds\n",
    "\n",
    "def k_fold_cross_validation(model, data, k=2):\n",
    "    folds = k_fold_split(data, k) # splitting the data into k folds\n",
    "    scores = []\n",
    "\n",
    "    for i in range(k):\n",
    "        # using one of the folds in each iteration for testing, others for training the model\n",
    "        test_set = folds[i]\n",
    "        train_set = np.concatenate([folds[j] for j in range(k) if j != i])\n",
    "\n",
    "        # fitting the model with train set\n",
    "        model.fit(train_set)\n",
    "\n",
    "        # testing the model (mse)\n",
    "        score = model.evaluate(test_set)\n",
    "        scores.append(score)\n",
    "    \n",
    "    return np.mean(scores) # returns the mean of MSE\n",
    "\n",
    "def leave_one_out_cross_validation(model, data):\n",
    "    return k_fold_cross_validation(model, data, k=data.shape[0]) # calling k_folds with k = 1\n"
   ]
  },
  {
   "cell_type": "code",
   "execution_count": 4,
   "metadata": {},
   "outputs": [],
   "source": [
    "# defining custom linear regression (using sklearn's LinearRegression)\n",
    "class CustomLinearRegression:\n",
    "    def __init__(self):\n",
    "        self.model = LinearRegression()\n",
    "\n",
    "    # fitting the data\n",
    "    def fit(self, data):\n",
    "        X, y = data[:, :-1], data[:, -1] # splitting to X and y (y is the last column in data)\n",
    "        self.model.fit(X, y)\n",
    "\n",
    "    # evaluating the model\n",
    "    def evaluate(self, data):\n",
    "        X, y = data[:, :-1], data[:, -1] # splitting to X and y (y is the last column in data)\n",
    "        y_pred = self.model.predict(X) # calcualting the y predictions\n",
    "        mse = mean_squared_error(y, y_pred)  # calculating the mean squared error\n",
    "        return mse\n",
    "    \n",
    "    def predict(self, X):\n",
    "        return self.model.predict(X)"
   ]
  },
  {
   "cell_type": "code",
   "execution_count": 5,
   "metadata": {},
   "outputs": [],
   "source": [
    "import sys\n",
    "# implementing forward feature selection\n",
    "\n",
    "def forward_feature_selection(model, df, k):\n",
    "    y = np.array(df)[:,-1]\n",
    "    data = np.array(df)[:,:-1] # converting df to numpy array and removing the last column (y values)\n",
    "    mse_list = []\n",
    "    mse_list.append(sys.float_info.max)\n",
    "\n",
    "    for i in range(len(data[0])):\n",
    "        best_mse = sys.float_info.max\n",
    "        best_atribute = None\n",
    "        for column in data.T: # looking for the best atribute\n",
    "            new_data = np.c_[column, y]\n",
    "            cur_mse = k_fold_cross_validation(model, new_data, k)\n",
    "            if cur_mse < best_mse:\n",
    "                best_mse = cur_mse\n",
    "                best_atribute = column\n",
    "        if best_mse >= mse_list[-1]:\n",
    "            break\n",
    "        mse_list.append(best_mse)\n",
    "        y = np.c_[best_atribute,y]\n",
    "    return y, mse_list[1:]\n",
    "\n",
    "\n",
    "def forward_feature_selection_with_atributes(model, df, k):\n",
    "    # getting the y values from the df\n",
    "    y = np.array(df)[:,-1]\n",
    "    mse_list = []\n",
    "    mse_list.append(sys.float_info.max) # error prevention (wont return this element at the end)\n",
    "    atribute_names_list = []\n",
    "\n",
    "    df_new = df.drop(df.columns[-1], axis=1) # dropping the y from df\n",
    "\n",
    "    for i in range(df.shape[1] - 1):\n",
    "        best_mse = sys.float_info.max\n",
    "        best_column = None\n",
    "        best_atribute_name = None\n",
    "        for column_name in df_new.columns:\n",
    "            column = df_new[column_name]\n",
    "            new_data = np.c_[np.array(column), y]\n",
    "            cur_mse = k_fold_cross_validation(model, new_data, k)\n",
    "            if cur_mse < best_mse:\n",
    "                best_mse = cur_mse\n",
    "                best_column = column\n",
    "                best_atribute_name = column_name\n",
    "        if best_mse >= mse_list[-1]:\n",
    "            break\n",
    "        mse_list.append(best_mse)\n",
    "        y = np.c_[np.array(best_column), y]\n",
    "        atribute_names_list.append(best_atribute_name)\n",
    "\n",
    "    return y, mse_list[1:], atribute_names_list\n",
    "\n"
   ]
  },
  {
   "cell_type": "code",
   "execution_count": 6,
   "metadata": {},
   "outputs": [],
   "source": [
    "custom_model = CustomLinearRegression()\n",
    "\n",
    "features_and_y, mse_list, atributes_list = forward_feature_selection_with_atributes(custom_model, df, 5)"
   ]
  },
  {
   "cell_type": "code",
   "execution_count": 7,
   "metadata": {},
   "outputs": [
    {
     "data": {
      "text/plain": [
       "['PctKids2Par',\n",
       " 'racePctWhite',\n",
       " 'HousVacant',\n",
       " 'pctUrban',\n",
       " 'PctPersDenseHous',\n",
       " 'racepctblack',\n",
       " 'MalePctDivorce',\n",
       " 'PctWorkMom',\n",
       " 'PctPopUnderPov',\n",
       " 'MedRentPctHousInc',\n",
       " 'NumStreet',\n",
       " 'population',\n",
       " 'PctKids2Par',\n",
       " 'PctIlleg',\n",
       " 'pctUrban',\n",
       " 'pctWFarmSelf',\n",
       " 'RentLowQ',\n",
       " 'PctEmplProfServ',\n",
       " 'MedRent',\n",
       " 'MalePctNevMarr']"
      ]
     },
     "execution_count": 7,
     "metadata": {},
     "output_type": "execute_result"
    }
   ],
   "source": [
    "atributes_list"
   ]
  },
  {
   "cell_type": "code",
   "execution_count": 8,
   "metadata": {},
   "outputs": [
    {
     "data": {
      "image/png": "[encoded data removed]",
      "text/plain": [
       "<Figure size 640x480 with 1 Axes>"
      ]
     },
     "metadata": {},
     "output_type": "display_data"
    }
   ],
   "source": [
    "x_values = range(1, len(mse_list) + 1)\n",
    "plt.plot(x_values, mse_list, marker='.', linestyle='-')\n",
    "plt.title('MSE decrease by addition of arguments')\n",
    "plt.xlabel('Number of arguments')\n",
    "plt.ylabel('MSE')\n",
    "plt.grid(True)\n",
    "\n",
    "# Show the plot\n",
    "plt.show()"
   ]
  },
  {
   "cell_type": "code",
   "execution_count": 9,
   "metadata": {},
   "outputs": [],
   "source": [
    "# Bootstraping TODO"
   ]
  }
 ],
 "metadata": {
  "kernelspec": {
   "display_name": "Python 3",
   "language": "python",
   "name": "python3"
  },
  "language_info": {
   "codemirror_mode": {
    "name": "ipython",
    "version": 3
   },
   "file_extension": ".py",
   "mimetype": "text/x-python",
   "name": "python",
   "nbconvert_exporter": "python",
   "pygments_lexer": "ipython3",
   "version": "3.12.0"
  }
 },
 "nbformat": 4,
 "nbformat_minor": 2
}
