{
 "cells": [
  {
   "cell_type": "code",
   "execution_count": 1,
   "metadata": {},
   "outputs": [
    {
     "data": {
      "text/plain": [
       "(1994, 100)"
      ]
     },
     "execution_count": 1,
     "metadata": {},
     "output_type": "execute_result"
    }
   ],
   "source": [
    "import pandas as pd\n",
    "import numpy as np\n",
    "import matplotlib.pyplot as plt\n",
    "import math\n",
    "from sklearn.linear_model import LinearRegression\n",
    "from sklearn.metrics import mean_absolute_error, mean_squared_error\n",
    "\n",
    "# we read the attribute names and store them in the columns var\n",
    "with open(\"data/communities.names\") as f: \n",
    "    columns = [l.split(\" \")[1] for l in f.readlines() if l.startswith(\"@attribute\")]\n",
    "# we read the data file and store it in the dataframe\n",
    "df = pd.read_csv('data/communities.data', header=None, names=columns, na_values='?')\n",
    "# dropping first 5 columns\n",
    "df = df.drop(columns=[\"state\", \"county\", \"community\", \"communityname\", \"fold\"]) \n",
    "\n",
    "# Dropping columns with NaN values\n",
    "df.dropna(axis=1, inplace=True)\n",
    "\n",
    "df.head()\n",
    "df.shape"
   ]
  },
  {
   "cell_type": "code",
   "execution_count": 2,
   "metadata": {},
   "outputs": [],
   "source": [
    "# K-fold cross-validation and Leave-one-out cross-validation\n",
    "\n",
    "def k_fold_split(data, k): # returns k folds of the data\n",
    "    data = np.array(data)\n",
    "    np.random.shuffle(data)  # Shuffle the data for randomness\n",
    "    fold_size = math.ceil(len(data) / k)\n",
    "    folds = [data[i:i + fold_size] for i in range(0, len(data), fold_size)]\n",
    "    return folds\n",
    "\n",
    "def k_fold_cross_validation(model, data, k=2):\n",
    "    folds = k_fold_split(data, k) # splitting the data into k folds\n",
    "    scores = []\n",
    "\n",
    "    for i in range(k):\n",
    "        # using one of the folds in each iteration for testing, others for training the model\n",
    "        test_set = folds[i]\n",
    "        train_set = np.concatenate([folds[j] for j in range(k) if j != i])\n",
    "\n",
    "        # fitting the model with train set\n",
    "        model.fit(train_set)\n",
    "\n",
    "        # testing the model (mse)\n",
    "        score = model.evaluate(test_set)\n",
    "        scores.append(score)\n",
    "    \n",
    "    return np.mean(scores) # returns the mean of MSE\n",
    "\n",
    "def leave_one_out_cross_validation(model, data):\n",
    "    return k_fold_cross_validation(model, data, k=data.shape[0]) # calling k_folds with k = 1\n"
   ]
  },
  {
   "cell_type": "code",
   "execution_count": 3,
   "metadata": {},
   "outputs": [],
   "source": [
    "# defining custom linear regression (using sklearn's LinearRegression)\n",
    "class CustomLinearRegression:\n",
    "    def __init__(self):\n",
    "        self.model = LinearRegression()\n",
    "\n",
    "    # fitting the data\n",
    "    def fit(self, data):\n",
    "        X, y = data[:, :-1], data[:, -1] # splitting to X and y (y is the last column in data)\n",
    "        self.model.fit(X, y)\n",
    "\n",
    "    # evaluating the model\n",
    "    def evaluate(self, data):\n",
    "        X, y = data[:, :-1], data[:, -1] # splitting to X and y (y is the last column in data)\n",
    "        y_pred = self.model.predict(X) # calcualting the y predictions\n",
    "        mse = mean_squared_error(y, y_pred)  # calculating the mean squared error\n",
    "        return mse\n",
    "    \n",
    "    def predict(self, X):\n",
    "        return self.model.predict(X)"
   ]
  },
  {
   "cell_type": "code",
   "execution_count": 4,
   "metadata": {},
   "outputs": [],
   "source": [
    "import sys\n",
    "# implementing forward feature selection\n",
    "\n",
    "def forward_feature_selection(model, df, k):\n",
    "    y = np.array(df)[:,-1]\n",
    "    data = np.array(df)[:,:-1] # converting df to numpy array and removing the last column (y values)\n",
    "    mse_list = []\n",
    "    mse_list.append(sys.float_info.max)\n",
    "\n",
    "    for i in range(len(data[0])):\n",
    "        best_mse = sys.float_info.max\n",
    "        best_atribute = None\n",
    "        for column in data.T: # looking for the best atribute\n",
    "            new_data = np.c_[column, y]\n",
    "            cur_mse = k_fold_cross_validation(model, new_data, k)\n",
    "            if cur_mse < best_mse:\n",
    "                best_mse = cur_mse\n",
    "                best_atribute = column\n",
    "        if best_mse >= mse_list[-1]:\n",
    "            break\n",
    "        mse_list.append(best_mse)\n",
    "        y = np.c_[best_atribute,y]\n",
    "    return y, mse_list[1:]\n",
    "\n",
    "\n",
    "def forward_feature_selection_with_atributes(model, df, k):\n",
    "    # getting the y values from the df\n",
    "    y = np.array(df)[:,-1]\n",
    "    mse_list = []\n",
    "    mse_list.append(sys.float_info.max) # error prevention (wont return this element at the end)\n",
    "    atribute_names_list = []\n",
    "\n",
    "    df_new = df.drop(df.columns[-1], axis=1) # dropping the y from df\n",
    "\n",
    "    for i in range(df.shape[1] - 1):\n",
    "        best_mse = sys.float_info.max\n",
    "        best_column = None\n",
    "        best_atribute_name = None\n",
    "        for column_name in df_new.columns:\n",
    "            column = df_new[column_name]\n",
    "            new_data = np.c_[np.array(column), y]\n",
    "            cur_mse = k_fold_cross_validation(model, new_data, k)\n",
    "            if cur_mse < best_mse:\n",
    "                best_mse = cur_mse\n",
    "                best_column = column\n",
    "                best_atribute_name = column_name\n",
    "        if best_mse >= mse_list[-1]:\n",
    "            break\n",
    "        mse_list.append(best_mse)\n",
    "        y = np.c_[np.array(best_column), y]\n",
    "        atribute_names_list.append(best_atribute_name)\n",
    "\n",
    "    return y, mse_list[1:], atribute_names_list\n",
    "\n"
   ]
  },
  {
   "cell_type": "code",
   "execution_count": 5,
   "metadata": {},
   "outputs": [],
   "source": [
    "custom_model = CustomLinearRegression()\n",
    "\n",
    "features_and_y, mse_list, atributes_list = forward_feature_selection_with_atributes(custom_model, df, 5)"
   ]
  },
  {
   "cell_type": "code",
   "execution_count": 6,
   "metadata": {},
   "outputs": [
    {
     "data": {
      "text/plain": [
       "['PctKids2Par',\n",
       " 'racePctWhite',\n",
       " 'HousVacant',\n",
       " 'pctUrban',\n",
       " 'PctWorkMom',\n",
       " 'MalePctDivorce',\n",
       " 'NumStreet',\n",
       " 'PctIlleg',\n",
       " 'NumUnderPov',\n",
       " 'PctBornSameState']"
      ]
     },
     "execution_count": 6,
     "metadata": {},
     "output_type": "execute_result"
    }
   ],
   "source": [
    "atributes_list"
   ]
  },
  {
   "cell_type": "code",
   "execution_count": 7,
   "metadata": {},
   "outputs": [
    {
     "data": {
      "image/png": "[encoded data removed]",
      "text/plain": [
       "<Figure size 640x480 with 1 Axes>"
      ]
     },
     "metadata": {},
     "output_type": "display_data"
    }
   ],
   "source": [
    "x_values = range(1, len(mse_list) + 1)\n",
    "plt.plot(x_values, mse_list, marker='.', linestyle='-')\n",
    "plt.title('MSE decrease by addition of arguments')\n",
    "plt.xlabel('Number of arguments')\n",
    "plt.ylabel('MSE')\n",
    "plt.grid(True)\n",
    "\n",
    "# Show the plot\n",
    "plt.show()"
   ]
  },
  {
   "cell_type": "code",
   "execution_count": 40,
   "metadata": {},
   "outputs": [],
   "source": [
    "# Bootstraping \n",
    "\n",
    "def generate_bootstrap_dataset(df):\n",
    "    bootstrap_df = df.sample(n=1)\n",
    "\n",
    "    for _ in range(len(df)-1):\n",
    "        random_row = df.sample(n=1)\n",
    "        bootstrap_df = pd.concat([bootstrap_df, random_row], ignore_index=True)\n",
    "    return bootstrap_df\n",
    "\n",
    "def bootstraping(df, n):\n",
    "    mse_list = []\n",
    "    for _ in range(n):\n",
    "        bootstrap_dataset = generate_bootstrap_dataset(df)\n",
    "        model = CustomLinearRegression()\n",
    "        mse = k_fold_cross_validation(model, bootstrap_dataset, k=5) # TODO change to 5\n",
    "        mse_list.append(mse)\n",
    "    return mse_list\n"
   ]
  },
  {
   "cell_type": "code",
   "execution_count": 41,
   "metadata": {},
   "outputs": [
    {
     "data": {
      "text/html": [
       "<div>\n",
       "<style scoped>\n",
       "    .dataframe tbody tr th:only-of-type {\n",
       "        vertical-align: middle;\n",
       "    }\n",
       "\n",
       "    .dataframe tbody tr th {\n",
       "        vertical-align: top;\n",
       "    }\n",
       "\n",
       "    .dataframe thead th {\n",
       "        text-align: right;\n",
       "    }\n",
       "</style>\n",
       "<table border=\"1\" class=\"dataframe\">\n",
       "  <thead>\n",
       "    <tr style=\"text-align: right;\">\n",
       "      <th></th>\n",
       "      <th>PctKids2Par</th>\n",
       "      <th>racePctWhite</th>\n",
       "      <th>HousVacant</th>\n",
       "      <th>pctUrban</th>\n",
       "      <th>PctWorkMom</th>\n",
       "      <th>MalePctDivorce</th>\n",
       "      <th>NumStreet</th>\n",
       "      <th>PctIlleg</th>\n",
       "      <th>NumUnderPov</th>\n",
       "      <th>PctBornSameState</th>\n",
       "      <th>ViolentCrimesPerPop</th>\n",
       "    </tr>\n",
       "  </thead>\n",
       "  <tbody>\n",
       "    <tr>\n",
       "      <th>0</th>\n",
       "      <td>0.59</td>\n",
       "      <td>0.90</td>\n",
       "      <td>0.21</td>\n",
       "      <td>1.0</td>\n",
       "      <td>0.76</td>\n",
       "      <td>0.68</td>\n",
       "      <td>0.0</td>\n",
       "      <td>0.14</td>\n",
       "      <td>0.08</td>\n",
       "      <td>0.42</td>\n",
       "      <td>0.20</td>\n",
       "    </tr>\n",
       "    <tr>\n",
       "      <th>1</th>\n",
       "      <td>0.47</td>\n",
       "      <td>0.74</td>\n",
       "      <td>0.02</td>\n",
       "      <td>1.0</td>\n",
       "      <td>0.53</td>\n",
       "      <td>1.00</td>\n",
       "      <td>0.0</td>\n",
       "      <td>0.24</td>\n",
       "      <td>0.01</td>\n",
       "      <td>0.50</td>\n",
       "      <td>0.67</td>\n",
       "    </tr>\n",
       "    <tr>\n",
       "      <th>2</th>\n",
       "      <td>0.44</td>\n",
       "      <td>0.56</td>\n",
       "      <td>0.01</td>\n",
       "      <td>0.0</td>\n",
       "      <td>0.67</td>\n",
       "      <td>0.63</td>\n",
       "      <td>0.0</td>\n",
       "      <td>0.46</td>\n",
       "      <td>0.01</td>\n",
       "      <td>0.49</td>\n",
       "      <td>0.43</td>\n",
       "    </tr>\n",
       "    <tr>\n",
       "      <th>3</th>\n",
       "      <td>0.54</td>\n",
       "      <td>0.08</td>\n",
       "      <td>0.01</td>\n",
       "      <td>1.0</td>\n",
       "      <td>0.86</td>\n",
       "      <td>0.34</td>\n",
       "      <td>0.0</td>\n",
       "      <td>0.33</td>\n",
       "      <td>0.01</td>\n",
       "      <td>0.30</td>\n",
       "      <td>0.12</td>\n",
       "    </tr>\n",
       "    <tr>\n",
       "      <th>4</th>\n",
       "      <td>0.91</td>\n",
       "      <td>0.95</td>\n",
       "      <td>0.01</td>\n",
       "      <td>0.9</td>\n",
       "      <td>0.60</td>\n",
       "      <td>0.22</td>\n",
       "      <td>0.0</td>\n",
       "      <td>0.06</td>\n",
       "      <td>0.00</td>\n",
       "      <td>0.72</td>\n",
       "      <td>0.03</td>\n",
       "    </tr>\n",
       "  </tbody>\n",
       "</table>\n",
       "</div>"
      ],
      "text/plain": [
       "   PctKids2Par  racePctWhite  HousVacant  pctUrban  PctWorkMom  \\\n",
       "0         0.59          0.90        0.21       1.0        0.76   \n",
       "1         0.47          0.74        0.02       1.0        0.53   \n",
       "2         0.44          0.56        0.01       0.0        0.67   \n",
       "3         0.54          0.08        0.01       1.0        0.86   \n",
       "4         0.91          0.95        0.01       0.9        0.60   \n",
       "\n",
       "   MalePctDivorce  NumStreet  PctIlleg  NumUnderPov  PctBornSameState  \\\n",
       "0            0.68        0.0      0.14         0.08              0.42   \n",
       "1            1.00        0.0      0.24         0.01              0.50   \n",
       "2            0.63        0.0      0.46         0.01              0.49   \n",
       "3            0.34        0.0      0.33         0.01              0.30   \n",
       "4            0.22        0.0      0.06         0.00              0.72   \n",
       "\n",
       "   ViolentCrimesPerPop  \n",
       "0                 0.20  \n",
       "1                 0.67  \n",
       "2                 0.43  \n",
       "3                 0.12  \n",
       "4                 0.03  "
      ]
     },
     "execution_count": 41,
     "metadata": {},
     "output_type": "execute_result"
    }
   ],
   "source": [
    "# Creating new df with only the atributes from Forward Feature Selection (And the y column)\n",
    "df_new_attributes = atributes_list + [\"ViolentCrimesPerPop\"]\n",
    "df_new = df[df_new_attributes]\n",
    "df_new.head()"
   ]
  },
  {
   "cell_type": "code",
   "execution_count": 70,
   "metadata": {},
   "outputs": [],
   "source": [
    "bootstrap_mse = bootstraping(df_new, 1000) # TODO 1000 instead of 10 (its gonna run for aprox. 7 minutes)"
   ]
  },
  {
   "cell_type": "code",
   "execution_count": 71,
   "metadata": {},
   "outputs": [
    {
     "data": {
      "image/png": "[encoded data removed]",
      "text/plain": [
       "<Figure size 640x480 with 1 Axes>"
      ]
     },
     "metadata": {},
     "output_type": "display_data"
    }
   ],
   "source": [
    "# Plot a histogram of the bootstrapped MSEs\n",
    "plt.hist(bootstrap_mse, bins=30)\n",
    "\n",
    "# Add labels and a title to the plot\n",
    "plt.xlabel('MSE')\n",
    "plt.ylabel('Frequency')\n",
    "plt.title('Bootstrapped MSEs Histogram')\n",
    "\n",
    "# Show the plot\n",
    "plt.show()"
   ]
  },
  {
   "cell_type": "code",
   "execution_count": 72,
   "metadata": {},
   "outputs": [
    {
     "name": "stdout",
     "output_type": "stream",
     "text": [
      "Mean MSE: 0.01896482128059084\n",
      "Standard Error (SE) of MSE: 3.1244960297391954e-05\n",
      "95% Confidence Interval for MSE: (0.01890, 0.01903)\n"
     ]
    }
   ],
   "source": [
    "import numpy as np \n",
    "import scipy.stats as st\n",
    "\n",
    "mean_mse = np.mean(bootstrap_mse)\n",
    "std_mse = st.sem(bootstrap_mse)\n",
    "conf_interval = st.norm.interval(0.95, loc=np.mean(bootstrap_mse), scale=st.sem(bootstrap_mse))\n",
    "\n",
    "\n",
    "print(\"Mean MSE:\", mean_mse)\n",
    "print(\"Standard Error (SE) of MSE:\", std_mse)\n",
    "print(f\"95% Confidence Interval for MSE: ({conf_interval[0]:.5f}, {conf_interval[1]:.5f})\")\n"
   ]
  }
 ],
 "metadata": {
  "kernelspec": {
   "display_name": "Python 3",
   "language": "python",
   "name": "python3"
  },
  "language_info": {
   "codemirror_mode": {
    "name": "ipython",
    "version": 3
   },
   "file_extension": ".py",
   "mimetype": "text/x-python",
   "name": "python",
   "nbconvert_exporter": "python",
   "pygments_lexer": "ipython3",
   "version": "3.12.0"
  }
 },
 "nbformat": 4,
 "nbformat_minor": 2
}
