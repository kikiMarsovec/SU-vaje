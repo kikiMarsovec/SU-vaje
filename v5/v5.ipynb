{
 "cells": [
  {
   "cell_type": "code",
   "execution_count": 28,
   "metadata": {},
   "outputs": [
    {
     "data": {
      "text/html": [
       "<div>\n",
       "<style scoped>\n",
       "    .dataframe tbody tr th:only-of-type {\n",
       "        vertical-align: middle;\n",
       "    }\n",
       "\n",
       "    .dataframe tbody tr th {\n",
       "        vertical-align: top;\n",
       "    }\n",
       "\n",
       "    .dataframe thead th {\n",
       "        text-align: right;\n",
       "    }\n",
       "</style>\n",
       "<table border=\"1\" class=\"dataframe\">\n",
       "  <thead>\n",
       "    <tr style=\"text-align: right;\">\n",
       "      <th></th>\n",
       "      <th>fixed.acidity</th>\n",
       "      <th>volatile.acidity</th>\n",
       "      <th>citric.acid</th>\n",
       "      <th>residual.sugar</th>\n",
       "      <th>chlorides</th>\n",
       "      <th>free.sulfur.dioxide</th>\n",
       "      <th>total.sulfur.dioxide</th>\n",
       "      <th>density</th>\n",
       "      <th>pH</th>\n",
       "      <th>sulphates</th>\n",
       "      <th>alcohol_level</th>\n",
       "      <th>quality</th>\n",
       "    </tr>\n",
       "  </thead>\n",
       "  <tbody>\n",
       "    <tr>\n",
       "      <th>0</th>\n",
       "      <td>7.0</td>\n",
       "      <td>0.27</td>\n",
       "      <td>0.36</td>\n",
       "      <td>20.7</td>\n",
       "      <td>0.045</td>\n",
       "      <td>45.0</td>\n",
       "      <td>170.0</td>\n",
       "      <td>1.0010</td>\n",
       "      <td>3.00</td>\n",
       "      <td>0.45</td>\n",
       "      <td>0</td>\n",
       "      <td>0</td>\n",
       "    </tr>\n",
       "    <tr>\n",
       "      <th>1</th>\n",
       "      <td>6.3</td>\n",
       "      <td>0.30</td>\n",
       "      <td>0.34</td>\n",
       "      <td>1.6</td>\n",
       "      <td>0.049</td>\n",
       "      <td>14.0</td>\n",
       "      <td>132.0</td>\n",
       "      <td>0.9940</td>\n",
       "      <td>3.30</td>\n",
       "      <td>0.49</td>\n",
       "      <td>0</td>\n",
       "      <td>0</td>\n",
       "    </tr>\n",
       "    <tr>\n",
       "      <th>2</th>\n",
       "      <td>8.1</td>\n",
       "      <td>0.28</td>\n",
       "      <td>0.40</td>\n",
       "      <td>6.9</td>\n",
       "      <td>0.050</td>\n",
       "      <td>30.0</td>\n",
       "      <td>97.0</td>\n",
       "      <td>0.9951</td>\n",
       "      <td>3.26</td>\n",
       "      <td>0.44</td>\n",
       "      <td>1</td>\n",
       "      <td>0</td>\n",
       "    </tr>\n",
       "    <tr>\n",
       "      <th>3</th>\n",
       "      <td>7.2</td>\n",
       "      <td>0.23</td>\n",
       "      <td>0.32</td>\n",
       "      <td>8.5</td>\n",
       "      <td>0.058</td>\n",
       "      <td>47.0</td>\n",
       "      <td>186.0</td>\n",
       "      <td>0.9956</td>\n",
       "      <td>3.19</td>\n",
       "      <td>0.40</td>\n",
       "      <td>0</td>\n",
       "      <td>0</td>\n",
       "    </tr>\n",
       "    <tr>\n",
       "      <th>4</th>\n",
       "      <td>7.2</td>\n",
       "      <td>0.23</td>\n",
       "      <td>0.32</td>\n",
       "      <td>8.5</td>\n",
       "      <td>0.058</td>\n",
       "      <td>47.0</td>\n",
       "      <td>186.0</td>\n",
       "      <td>0.9956</td>\n",
       "      <td>3.19</td>\n",
       "      <td>0.40</td>\n",
       "      <td>0</td>\n",
       "      <td>0</td>\n",
       "    </tr>\n",
       "  </tbody>\n",
       "</table>\n",
       "</div>"
      ],
      "text/plain": [
       "   fixed.acidity  volatile.acidity  citric.acid  residual.sugar  chlorides  \\\n",
       "0            7.0              0.27         0.36            20.7      0.045   \n",
       "1            6.3              0.30         0.34             1.6      0.049   \n",
       "2            8.1              0.28         0.40             6.9      0.050   \n",
       "3            7.2              0.23         0.32             8.5      0.058   \n",
       "4            7.2              0.23         0.32             8.5      0.058   \n",
       "\n",
       "   free.sulfur.dioxide  total.sulfur.dioxide  density    pH  sulphates  \\\n",
       "0                 45.0                 170.0   1.0010  3.00       0.45   \n",
       "1                 14.0                 132.0   0.9940  3.30       0.49   \n",
       "2                 30.0                  97.0   0.9951  3.26       0.44   \n",
       "3                 47.0                 186.0   0.9956  3.19       0.40   \n",
       "4                 47.0                 186.0   0.9956  3.19       0.40   \n",
       "\n",
       "   alcohol_level  quality  \n",
       "0              0        0  \n",
       "1              0        0  \n",
       "2              1        0  \n",
       "3              0        0  \n",
       "4              0        0  "
      ]
     },
     "execution_count": 28,
     "metadata": {},
     "output_type": "execute_result"
    }
   ],
   "source": [
    "# reading and preprocessing the data\n",
    "import numpy as np\n",
    "import pandas as pd\n",
    "\n",
    "data_path = \"./data/wine_quality.csv\"\n",
    "df = pd.read_csv(data_path, header=0)\n",
    "# dropping first two columns (since they only include indices not actual data)\n",
    "df.drop(df.columns[:2], axis=1, inplace=True)\n",
    "# handling quality and alcohol_level\n",
    "mapping =  {'high': 1, 'low': 0}\n",
    "df['quality'] = df['quality'].map(mapping)\n",
    "df['alcohol_level'] = df['alcohol_level'].map(mapping)\n",
    "# moving the target variable (quality) to the end of the df\n",
    "df['quality'] = df.pop('quality')\n",
    "df.head()"
   ]
  },
  {
   "cell_type": "code",
   "execution_count": 29,
   "metadata": {},
   "outputs": [],
   "source": [
    "# splitting to train and test set\n",
    "from sklearn.model_selection import train_test_split\n",
    "X = df.drop(\"quality\", axis=1)\n",
    "y = df[\"quality\"]\n",
    "X_train, X_test, y_train, y_test = train_test_split(X, y, test_size=0.2, random_state=0)"
   ]
  },
  {
   "cell_type": "code",
   "execution_count": 30,
   "metadata": {},
   "outputs": [],
   "source": [
    "# MY GRADIENT BOOSTING\n",
    "import math\n",
    "from sklearn.tree import DecisionTreeRegressor\n",
    "\n",
    "class MyGradientBoosting:\n",
    "    def __init__(self, number_of_trees=100, learning_rate=0.1, max_depth=2):\n",
    "        self.initial_probability = 0\n",
    "        self.number_of_trees = number_of_trees\n",
    "        self.learning_rate = learning_rate\n",
    "        self.max_depth = max_depth\n",
    "        self.trees = []\n",
    "\n",
    "    def fit(self, X, y):\n",
    "        # turn X and y to numpy array (if they are not already)\n",
    "        if isinstance(X, pd.DataFrame):\n",
    "            X = X.values\n",
    "            y = y.values\n",
    "        n, m = X.shape # n - number of rows, m - number of atributes\n",
    "\n",
    "        # initial prediction and probability\n",
    "        initial_prediction = math.log(np.count_nonzero(y == 1) / np.count_nonzero(y == 0))\n",
    "        initial_probability = np.exp(initial_prediction) / (1 + np.exp(initial_prediction))\n",
    "        self.initial_probability = initial_probability\n",
    "\n",
    "        # init the array of predictions and pseudo residuals\n",
    "        predictions = np.full(n, initial_probability)\n",
    "        pseudo_residuals = np.zeros(n)\n",
    "\n",
    "        for _ in range(self.number_of_trees):\n",
    "            # calculating pseudo residuals (observed - predicted)\n",
    "            pseudo_residuals = y - predictions\n",
    "\n",
    "            # building the tree for predicting the pseudo resuduals\n",
    "            residuals_tree = DecisionTreeRegressor(max_depth=self.max_depth)\n",
    "            residuals_tree.fit(X, pseudo_residuals)\n",
    "            \n",
    "            # calculating new predictions\n",
    "            predictions += self.learning_rate * residuals_tree.predict(X)\n",
    "            \n",
    "            # adding the tree to the chain of trees\n",
    "            self.trees.append(residuals_tree)\n",
    "            #print(predictions)\n",
    "    \n",
    "    def predict(self, X):\n",
    "        # turn X to numpy array (if it's not already)\n",
    "        if isinstance(X, pd.DataFrame):\n",
    "            X = X.values\n",
    "        n, m = X.shape # n - number of rows, m - number of atributes\n",
    "        predictions = np.full(n, self.initial_probability)\n",
    "        for tree in self.trees:\n",
    "            predictions += self.learning_rate * tree.predict(X)\n",
    "        # returns y predictions\n",
    "        return np.round(predictions).astype(int)\n"
   ]
  },
  {
   "cell_type": "code",
   "execution_count": 31,
   "metadata": {},
   "outputs": [],
   "source": [
    "# reusing my cross validation from v2\n",
    "import math \n",
    "from sklearn.metrics import accuracy_score, f1_score\n",
    "\n",
    "def k_fold_split(data, k): # returns k folds of the data\n",
    "    data = np.array(data)\n",
    "    fold_size = math.ceil(len(data) / k)\n",
    "    folds = [data[i:i + fold_size] for i in range(0, len(data), fold_size)]\n",
    "    return folds\n",
    "\n",
    "def k_fold_cross_validation(model, X, y, k=5):\n",
    "    if isinstance(X, pd.DataFrame):\n",
    "        X = np.array(X)\n",
    "    if isinstance(y, pd.Series):\n",
    "        y = np.array(y)\n",
    "    data = np.hstack((X, y.reshape(-1, 1))) # adding y to X as the last column of data\n",
    "    \n",
    "    folds = k_fold_split(data, k) # splitting the data into k folds\n",
    "    scores = []\n",
    "\n",
    "    for i in range(k):\n",
    "        # using one of the folds in each iteration for testing, others for training the model\n",
    "        test_set = folds[i]\n",
    "        train_set = np.concatenate([folds[j] for j in range(k) if j != i])\n",
    "\n",
    "        # fitting the model with train set\n",
    "        model.fit(train_set[:,:-1], train_set[:,-1])\n",
    "        score = accuracy_score(test_set[:,-1], model.predict(test_set[:,:-1]))\n",
    "        scores.append(score)\n",
    "    return np.mean(scores) # returns the mean of accuracy"
   ]
  },
  {
   "cell_type": "code",
   "execution_count": 32,
   "metadata": {},
   "outputs": [
    {
     "data": {
      "image/png": "[encoded data removed]",
      "text/plain": [
       "<Figure size 640x480 with 1 Axes>"
      ]
     },
     "metadata": {},
     "output_type": "display_data"
    },
    {
     "name": "stdout",
     "output_type": "stream",
     "text": [
      "Best learning rate: 0.01\n"
     ]
    }
   ],
   "source": [
    "# trying differnet learning rates\n",
    "possible_learning_rates = [0.0001, 0.001, 0.01, 0.1]\n",
    "accuracy_scores = []\n",
    "best_score = -1\n",
    "best_learning_rate = -1\n",
    "for lr in possible_learning_rates:    \n",
    "    my_GB = MyGradientBoosting(learning_rate=lr)\n",
    "    score = k_fold_cross_validation(my_GB, X_train, y_train)\n",
    "    accuracy_scores.append(score)\n",
    "    if score > best_score:\n",
    "        best_score = score\n",
    "        best_learning_rate = lr\n",
    "\n",
    "import matplotlib.pyplot as plt\n",
    "\n",
    "plt.plot(possible_learning_rates, accuracy_scores)\n",
    "plt.xscale('log')\n",
    "plt.xlabel('Learning rate')\n",
    "plt.ylabel('Accuracy')\n",
    "plt.title('Different learning rates and their accuracy scores (CV)')\n",
    "plt.show()\n",
    "\n",
    "print(\"Best learning rate:\", best_learning_rate)"
   ]
  },
  {
   "cell_type": "code",
   "execution_count": 33,
   "metadata": {},
   "outputs": [
    {
     "data": {
      "image/png": "[encoded data removed]",
      "text/plain": [
       "<Figure size 640x480 with 1 Axes>"
      ]
     },
     "metadata": {},
     "output_type": "display_data"
    },
    {
     "name": "stdout",
     "output_type": "stream",
     "text": [
      "Best number of trees: 50\n"
     ]
    }
   ],
   "source": [
    "# trying differenc number of trees\n",
    "\n",
    "possible_number_of_trees = [10, 50, 100, 500, 1000]\n",
    "accuracy_scores = []\n",
    "best_score = -1\n",
    "best_number_of_trees = -1\n",
    "for tree_num in possible_number_of_trees:    \n",
    "    my_GB = MyGradientBoosting(learning_rate=0.01, number_of_trees=tree_num)\n",
    "    score = k_fold_cross_validation(my_GB, X_train, y_train)\n",
    "    accuracy_scores.append(score)\n",
    "    if score > best_score:\n",
    "        best_score = score\n",
    "        best_number_of_trees = tree_num\n",
    "\n",
    "import matplotlib.pyplot as plt\n",
    "\n",
    "plt.plot(possible_number_of_trees, accuracy_scores)\n",
    "plt.xscale('log')\n",
    "plt.xlabel('Number of trees')\n",
    "plt.ylabel('Accuracy')\n",
    "plt.title('Different number of trees and their accuracy scores (CV)')\n",
    "plt.show()\n",
    "\n",
    "print(\"Best number of trees:\", best_number_of_trees)"
   ]
  },
  {
   "cell_type": "code",
   "execution_count": 34,
   "metadata": {},
   "outputs": [
    {
     "name": "stdout",
     "output_type": "stream",
     "text": [
      "My GB accuracy on test set: 0.7795918367346939\n"
     ]
    }
   ],
   "source": [
    "# testing on test set\n",
    "\n",
    "my_GB = MyGradientBoosting(number_of_trees=50, learning_rate=0.01)\n",
    "my_GB.fit(X_train, y_train)\n",
    "y_pred = my_GB.predict(X_test)\n",
    "\n",
    "accuracy = accuracy_score(y_test, y_pred)\n",
    "print(\"My GB accuracy on test set:\", accuracy)"
   ]
  },
  {
   "cell_type": "markdown",
   "metadata": {},
   "source": [
    "Prevent overfitting strategies for my gradient boosting:\n",
    "- using small learning rate\n",
    "- using shallow trees"
   ]
  },
  {
   "cell_type": "code",
   "execution_count": 35,
   "metadata": {},
   "outputs": [
    {
     "name": "stdout",
     "output_type": "stream",
     "text": [
      "Sklearn's GB accuracy on test set: 0.8326530612244898\n"
     ]
    }
   ],
   "source": [
    "# testing sklearn's gradient boost on test set\n",
    "\n",
    "from sklearn.ensemble import GradientBoostingClassifier\n",
    "\n",
    "sklearn_GB = GradientBoostingClassifier()\n",
    "sklearn_GB.fit(X_train, y_train)\n",
    "y_pred = sklearn_GB.predict(X_test)\n",
    "\n",
    "accuracy = accuracy_score(y_test, y_pred)\n",
    "print(\"Sklearn's GB accuracy on test set:\", accuracy)"
   ]
  },
  {
   "cell_type": "code",
   "execution_count": 36,
   "metadata": {},
   "outputs": [
    {
     "name": "stdout",
     "output_type": "stream",
     "text": [
      "XGBoost's accuracy on test set: 0.8683673469387755\n"
     ]
    }
   ],
   "source": [
    "# testing XGBoost on test set\n",
    "\n",
    "import xgboost as xgb\n",
    "\n",
    "xgb_classifier = xgb.XGBClassifier()\n",
    "xgb_classifier.fit(X_train, y_train)\n",
    "y_pred = xgb_classifier.predict(X_test)\n",
    "\n",
    "accuracy = accuracy_score(y_test, y_pred)\n",
    "print(\"XGBoost's accuracy on test set:\", accuracy)"
   ]
  },
  {
   "cell_type": "code",
   "execution_count": 37,
   "metadata": {},
   "outputs": [
    {
     "name": "stdout",
     "output_type": "stream",
     "text": [
      "[LightGBM] [Info] Number of positive: 844, number of negative: 3074\n",
      "[LightGBM] [Info] Auto-choosing col-wise multi-threading, the overhead of testing was 0.000216 seconds.\n",
      "You can set `force_col_wise=true` to remove the overhead.\n",
      "[LightGBM] [Info] Total Bins 1254\n",
      "[LightGBM] [Info] Number of data points in the train set: 3918, number of used features: 11\n",
      "[LightGBM] [Info] [binary:BoostFromScore]: pavg=0.215416 -> initscore=-1.292582\n",
      "[LightGBM] [Info] Start training from score -1.292582\n",
      "\n",
      "LightGBM's accuracy on test set: 0.7795918367346939\n"
     ]
    }
   ],
   "source": [
    "# testing LightGBM on test set\n",
    "\n",
    "import lightgbm as lgb\n",
    "train_data = lgb.Dataset(X_train, label=y_train)\n",
    "test_data = lgb.Dataset(X_test, label=y_test, reference=train_data)\n",
    "\n",
    "params = {\n",
    "    'objective': 'binary',\n",
    "    'metric': 'binary_error',\n",
    "    'boosting_type': 'gbdt',\n",
    "    'num_leaves': 8,\n",
    "    'learning_rate': 0.01,\n",
    "    'feature_fraction': 0.9\n",
    "}\n",
    "num_round = 100\n",
    "bst = lgb.train(params, train_data, num_round, valid_sets=[test_data])\n",
    "y_pred = bst.predict(X_test, num_iteration=bst.best_iteration)\n",
    "y_pred_binary = [1 if x >= 0.5 else 0 for x in y_pred]\n",
    "\n",
    "accuracy = accuracy_score(y_test, y_pred_binary)\n",
    "print()\n",
    "print(\"LightGBM's accuracy on test set:\", accuracy)"
   ]
  },
  {
   "cell_type": "code",
   "execution_count": 38,
   "metadata": {},
   "outputs": [],
   "source": [
    "# Note: I couldn't build CatBoost model as it would not install on my PC."
   ]
  }
 ],
 "metadata": {
  "kernelspec": {
   "display_name": "Python 3",
   "language": "python",
   "name": "python3"
  },
  "language_info": {
   "codemirror_mode": {
    "name": "ipython",
    "version": 3
   },
   "file_extension": ".py",
   "mimetype": "text/x-python",
   "name": "python",
   "nbconvert_exporter": "python",
   "pygments_lexer": "ipython3",
   "version": "3.12.0"
  }
 },
 "nbformat": 4,
 "nbformat_minor": 2
}
