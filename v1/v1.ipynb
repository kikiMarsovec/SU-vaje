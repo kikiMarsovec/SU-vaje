{
 "cells": [
  {
   "cell_type": "code",
   "execution_count": 2,
   "metadata": {},
   "outputs": [
    {
     "data": {
      "text/html": [
       "<div>\n",
       "<style scoped>\n",
       "    .dataframe tbody tr th:only-of-type {\n",
       "        vertical-align: middle;\n",
       "    }\n",
       "\n",
       "    .dataframe tbody tr th {\n",
       "        vertical-align: top;\n",
       "    }\n",
       "\n",
       "    .dataframe thead th {\n",
       "        text-align: right;\n",
       "    }\n",
       "</style>\n",
       "<table border=\"1\" class=\"dataframe\">\n",
       "  <thead>\n",
       "    <tr style=\"text-align: right;\">\n",
       "      <th></th>\n",
       "      <th>mpg</th>\n",
       "      <th>displacement</th>\n",
       "      <th>horsepower</th>\n",
       "      <th>weight</th>\n",
       "      <th>acceleration</th>\n",
       "      <th>model_year</th>\n",
       "      <th>origin_2</th>\n",
       "      <th>origin_1</th>\n",
       "    </tr>\n",
       "  </thead>\n",
       "  <tbody>\n",
       "    <tr>\n",
       "      <th>0</th>\n",
       "      <td>18.0</td>\n",
       "      <td>307.0</td>\n",
       "      <td>130.0</td>\n",
       "      <td>3504.0</td>\n",
       "      <td>12.0</td>\n",
       "      <td>70</td>\n",
       "      <td>0</td>\n",
       "      <td>0</td>\n",
       "    </tr>\n",
       "    <tr>\n",
       "      <th>1</th>\n",
       "      <td>15.0</td>\n",
       "      <td>350.0</td>\n",
       "      <td>165.0</td>\n",
       "      <td>3693.0</td>\n",
       "      <td>11.5</td>\n",
       "      <td>70</td>\n",
       "      <td>0</td>\n",
       "      <td>0</td>\n",
       "    </tr>\n",
       "    <tr>\n",
       "      <th>2</th>\n",
       "      <td>18.0</td>\n",
       "      <td>318.0</td>\n",
       "      <td>150.0</td>\n",
       "      <td>3436.0</td>\n",
       "      <td>11.0</td>\n",
       "      <td>70</td>\n",
       "      <td>0</td>\n",
       "      <td>0</td>\n",
       "    </tr>\n",
       "    <tr>\n",
       "      <th>3</th>\n",
       "      <td>16.0</td>\n",
       "      <td>304.0</td>\n",
       "      <td>150.0</td>\n",
       "      <td>3433.0</td>\n",
       "      <td>12.0</td>\n",
       "      <td>70</td>\n",
       "      <td>0</td>\n",
       "      <td>0</td>\n",
       "    </tr>\n",
       "    <tr>\n",
       "      <th>4</th>\n",
       "      <td>17.0</td>\n",
       "      <td>302.0</td>\n",
       "      <td>140.0</td>\n",
       "      <td>3449.0</td>\n",
       "      <td>10.5</td>\n",
       "      <td>70</td>\n",
       "      <td>0</td>\n",
       "      <td>0</td>\n",
       "    </tr>\n",
       "  </tbody>\n",
       "</table>\n",
       "</div>"
      ],
      "text/plain": [
       "    mpg  displacement  horsepower  weight  acceleration  model_year  origin_2  \\\n",
       "0  18.0         307.0       130.0  3504.0          12.0          70         0   \n",
       "1  15.0         350.0       165.0  3693.0          11.5          70         0   \n",
       "2  18.0         318.0       150.0  3436.0          11.0          70         0   \n",
       "3  16.0         304.0       150.0  3433.0          12.0          70         0   \n",
       "4  17.0         302.0       140.0  3449.0          10.5          70         0   \n",
       "\n",
       "   origin_1  \n",
       "0         0  \n",
       "1         0  \n",
       "2         0  \n",
       "3         0  \n",
       "4         0  "
      ]
     },
     "execution_count": 2,
     "metadata": {},
     "output_type": "execute_result"
    }
   ],
   "source": [
    "import pandas as pd\n",
    "import numpy as np\n",
    "\n",
    "filePath = \"data/auto-mpg.data\"\n",
    "columnNames = [\"mpg\", \"cylinders\", \"displacement\", \"horsepower\", \"weight\", \"acceleration\", \"model_year\", \"origin\", \"car_name\"]\n",
    "\n",
    "# reading dataset into dataFrame\n",
    "df = pd.read_csv(filePath, delim_whitespace=True, names=columnNames)\n",
    "# removing cylindres and car_name\n",
    "df = df.drop(\"cylinders\", axis=1)\n",
    "df = df.drop(\"car_name\", axis=1)\n",
    "# replacing ? with NaN to ensure it's recognized as a missing value\n",
    "df['horsepower'] = df['horsepower'].replace('?', np.nan)\n",
    "# removing rows with missing values\n",
    "df = df.dropna()\n",
    "# Handling Origin (a categorical atribute)\n",
    "df = pd.get_dummies(df, columns=['origin'], prefix=['origin'], drop_first=True, dtype=int)\n",
    "df = df.rename(columns={'origin_2': 'origin_1', 'origin_3': 'origin_2'})\n",
    "df = df[[\"mpg\", \"displacement\", \"horsepower\", \"weight\", \"acceleration\", \"model_year\", \"origin_2\", \"origin_1\"]]\n",
    "\n",
    "# converting horsepower column to float\n",
    "df['horsepower'] = df['horsepower'].astype(float)\n",
    "\n",
    "df.head()\n"
   ]
  },
  {
   "cell_type": "code",
   "execution_count": 3,
   "metadata": {},
   "outputs": [],
   "source": [
    "from sklearn.model_selection import train_test_split\n",
    "# Splitting the dataset on test and train data\n",
    "X = df[['displacement', 'horsepower', 'weight', 'acceleration', 'model_year', 'origin_2', 'origin_1']]\n",
    "y = df['mpg']\n",
    "\n",
    "\n",
    "# 80% for training, 20% for testing\n",
    "X_train, X_test, y_train, y_test = train_test_split(X, y, test_size=0.2, random_state=0)\n",
    "\n",
    "# Adding a column of ones to X (for my linear regression implementation)\n",
    "X_train_ones = np.c_[np.ones(X_train.shape[0]), X_train]\n",
    "X_test_ones = np.c_[np.ones(X_test.shape[0]), X_test]"
   ]
  },
  {
   "cell_type": "code",
   "execution_count": 4,
   "metadata": {},
   "outputs": [],
   "source": [
    "import numpy as np\n",
    "# Implementing Linear Regression\n",
    "# Betas = (X^T X)^-1 X^T y \n",
    "\n",
    "my_linear_regression = np.dot(np.dot(np.linalg.inv(np.dot(X_train_ones.T, X_train_ones)), X_train_ones.T), y_train)\n"
   ]
  },
  {
   "cell_type": "code",
   "execution_count": 5,
   "metadata": {},
   "outputs": [
    {
     "data": {
      "image/png": "[encoded data removed]",
      "text/plain": [
       "<Figure size 640x480 with 1 Axes>"
      ]
     },
     "metadata": {},
     "output_type": "display_data"
    }
   ],
   "source": [
    "# testing my linear regression and plotting the residuals\n",
    "\n",
    "y_predictions = np.dot(X_test_ones, my_linear_regression)\n",
    "\n",
    "residuals = []\n",
    "y_test_array = np.asarray(y_test)\n",
    "for i in range(0, len(y_test_array)):\n",
    "    residuals.append(y_test_array[i] - y_predictions[i])\n",
    "\n",
    "# plotting the residuals\n",
    "import matplotlib.pyplot as plt\n",
    "\n",
    "plt.scatter(y_predictions, residuals, marker='o')\n",
    "plt.ylabel(\"Residuals\")\n",
    "plt.xlabel(\"Fitted values\")\n",
    "plt.title(\"Residuals vs Fitted\")\n",
    "plt.show()"
   ]
  },
  {
   "cell_type": "code",
   "execution_count": 6,
   "metadata": {},
   "outputs": [
    {
     "name": "stdout",
     "output_type": "stream",
     "text": [
      "Razlika beta 0: 1.4029666317583178e-11\n",
      "Razlika beta 1: 4.265685027426969e-15\n",
      "Razlika beta 2: 8.999745393367675e-15\n",
      "Razlika beta 3: 4.761815941556335e-16\n",
      "Razlika beta 4: 1.1965428647897625e-13\n",
      "Razlika beta 5: 1.3877787807814457e-13\n",
      "Razlika beta 6: 2.0339285811132868e-13\n",
      "Razlika beta 7: 3.5793590313915047e-13\n"
     ]
    }
   ],
   "source": [
    "# Comparing my linear regression and sci-kit linear regression (betas, predictions?, R^2, MSE, MAE)\n",
    "from sklearn.linear_model import LinearRegression\n",
    "\n",
    "sk_linear_regression = LinearRegression()\n",
    "sk_linear_regression.fit(X_train, y_train)\n",
    "\n",
    "y_predictions_sk = sk_linear_regression.predict(X_test)\n",
    "\n",
    "# Comparing the betas\n",
    "betas_sk = np.insert(sk_linear_regression.coef_, 0, sk_linear_regression.intercept_)\n",
    "for i in range(0, len(betas_sk)):\n",
    "    print(f\"Razlika beta {i}: {np.abs(my_linear_regression[i] - betas_sk[i])}\")\n"
   ]
  },
  {
   "cell_type": "code",
   "execution_count": 7,
   "metadata": {},
   "outputs": [
    {
     "name": "stdout",
     "output_type": "stream",
     "text": [
      "My MSE:      10.173951170813487\n",
      "SkLearn MSE: 10.173951170812881\n",
      "Difference:  6.057376822354854e-13\n",
      "SkLearn better: True\n"
     ]
    }
   ],
   "source": [
    "# Comparing the MSE (od ena do n sestejemo kvadrate napak med y_test in y_predicitons)\n",
    "from sklearn.metrics import mean_squared_error\n",
    "\n",
    "mse = mean_squared_error(y_test, y_predictions)\n",
    "mse_sk = mean_squared_error(y_test, y_predictions_sk)\n",
    "print(f\"My MSE:      {mse}\\nSkLearn MSE: {mse_sk}\\nDifference:  {np.abs(mse-mse_sk)}\")\n",
    "print(f\"SkLearn better: {mse_sk < mse}\")"
   ]
  },
  {
   "cell_type": "code",
   "execution_count": 8,
   "metadata": {},
   "outputs": [
    {
     "name": "stdout",
     "output_type": "stream",
     "text": [
      "My MAE:      2.425567583122693\n",
      "SkLearn MAE: 2.4255675831225925\n",
      "Difference:  1.0036416142611415e-13\n",
      "SkLearn better: True\n"
     ]
    }
   ],
   "source": [
    "# Comparing the MAE (od ena do n sestejemo absolutne vrednosti napak med y_test in y_predictions)\n",
    "from sklearn.metrics import mean_absolute_error\n",
    "\n",
    "mae = mean_absolute_error(y_test, y_predictions)\n",
    "mae_sk = mean_absolute_error(y_test, y_predictions_sk)\n",
    "print (f\"My MAE:      {mae}\\nSkLearn MAE: {mae_sk}\\nDifference:  {np.abs(mae-mae_sk)}\")\n",
    "print(f\"SkLearn better: {mae_sk < mae}\")"
   ]
  },
  {
   "cell_type": "code",
   "execution_count": 9,
   "metadata": {},
   "outputs": [
    {
     "name": "stdout",
     "output_type": "stream",
     "text": [
      "My R2:      0.8363140594684193\n",
      "SkLearn R2: 0.8363140594684291\n",
      "Difference: 9.769962616701378e-15\n",
      "SkLearn better: True\n"
     ]
    }
   ],
   "source": [
    "# Comparing the R-squared (R2 = 1 - (RSS / TSS))\n",
    "# RSS (Residual Sum of Squares) - sum of squared differences between y_test and y_predictions\n",
    "# TSS (Total Sum of Squares) - sum of squared differences between y_test and mean of y_test\n",
    "# R2 med 0 in 1 (1 je boljsi, bolje napoveduje)\n",
    "from sklearn.metrics import r2_score\n",
    "\n",
    "r2 = r2_score(y_test, y_predictions)\n",
    "r2_sk = r2_score(y_test, y_predictions_sk)\n",
    "print (f\"My R2:      {r2}\\nSkLearn R2: {r2_sk}\\nDifference: {np.abs(r2-r2_sk)}\")\n",
    "print(f\"SkLearn better: {r2_sk > r2}\")"
   ]
  }
 ],
 "metadata": {
  "kernelspec": {
   "display_name": "Python 3",
   "language": "python",
   "name": "python3"
  },
  "language_info": {
   "codemirror_mode": {
    "name": "ipython",
    "version": 3
   },
   "file_extension": ".py",
   "mimetype": "text/x-python",
   "name": "python",
   "nbconvert_exporter": "python",
   "pygments_lexer": "ipython3",
   "version": "3.12.0"
  }
 },
 "nbformat": 4,
 "nbformat_minor": 2
}
